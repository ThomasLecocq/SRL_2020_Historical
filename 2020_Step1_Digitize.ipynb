{
 "cells": [
  {
   "cell_type": "code",
   "execution_count": 1,
   "metadata": {},
   "outputs": [
    {
     "data": {
      "text/html": [
       "<style>.container { width:80% !important; }</style>"
      ],
      "text/plain": [
       "<IPython.core.display.HTML object>"
      ]
     },
     "metadata": {},
     "output_type": "display_data"
    }
   ],
   "source": [
    "from IPython.core.display import display, HTML\n",
    "display(HTML(\"<style>.container { width:80% !important; }</style>\")) "
   ]
  },
  {
   "cell_type": "code",
   "execution_count": 2,
   "metadata": {},
   "outputs": [],
   "source": [
    "%matplotlib inline\n",
    "import os\n",
    "import datetime\n",
    "import matplotlib.pyplot as plt\n",
    "import pandas as pd\n",
    "import numpy as np\n",
    "from obspy import Trace, Stream, UTCDateTime\n",
    "from matplotlib.mlab import psd, magnitude_spectrum\n",
    "import glob\n",
    "import numpy as np\n",
    "import matplotlib.pyplot as plt\n",
    "from scipy import ndimage as ndi\n",
    "\n",
    "from skimage import feature\n",
    "import matplotlib.image as mpimg\n",
    "import matplotlib.dates as mdates\n",
    "\n",
    "import matplotlib.pyplot as plt\n",
    "import matplotlib.patches as mpatches\n",
    "from matplotlib.ticker import FormatStrFormatter\n",
    "from matplotlib.gridspec import GridSpec\n",
    "\n",
    "from skimage import data\n",
    "from skimage.filters import threshold_otsu\n",
    "from skimage.segmentation import clear_border\n",
    "from skimage.measure import label, regionprops\n",
    "from skimage.morphology import closing, square\n",
    "from skimage.color import label2rgb\n",
    "from skimage.morphology import skeletonize\n",
    "from skimage.transform import rotate, hough_line, hough_line_peaks\n",
    "import scipy.signal as ss\n",
    "\n",
    "from obspy.signal.spectral_estimation import get_nlnm, get_nhnm\n",
    "\n",
    "import matplotlib as mpl\n",
    "mpl.rcParams['date.autoformatter.day'] = \"%Y-%m-%d\"\n",
    "mpl.rcParams['date.autoformatter.hour'] = \"%Y-%m-%d %Hh\"\n",
    "mpl.rcParams['date.autoformatter.minute'] = \"%Y-%m-%d %H:%M\"\n",
    "\n",
    "mpl.rcParams['figure.figsize'] = \"12,8\"\n",
    "mpl.rcParams['figure.dpi'] = 100\n",
    "\n",
    "mpl.rcParams['axes.axisbelow'] = True\n"
   ]
  },
  {
   "cell_type": "code",
   "execution_count": 3,
   "metadata": {},
   "outputs": [],
   "source": [
    "import seaborn as sns"
   ]
  },
  {
   "cell_type": "code",
   "execution_count": 4,
   "metadata": {},
   "outputs": [],
   "source": [
    "def rgb2gray(rgb):\n",
    "    return np.dot(rgb[...,:3], [0.299, 0.587, 0.114])\n"
   ]
  },
  {
   "cell_type": "code",
   "execution_count": 16,
   "metadata": {},
   "outputs": [],
   "source": [
    "traces = {}"
   ]
  },
  {
   "cell_type": "code",
   "execution_count": 17,
   "metadata": {
    "scrolled": false
   },
   "outputs": [
    {
     "name": "stdout",
     "output_type": "stream",
     "text": [
      "Processing data\\19530128.jpg\n",
      "(3576, 11109)\n",
      "(3576, 11109)\n",
      "(3576, 11109)\n",
      "Done\n"
     ]
    }
   ],
   "source": [
    "from PIL import Image\n",
    "import PIL.ImageOps  \n",
    "\n",
    "files = sorted(glob.glob(r\"data\\19530*.jpg\"))\n",
    "\n",
    "PLOT = False\n",
    "# Galitzin: bottom to up, left to right\n",
    "\n",
    "for file in files:\n",
    "    print(\"Processing %s\"%file)\n",
    "    filename = os.path.split(file)[1]\n",
    "    if filename in traces:\n",
    "        continue\n",
    "\n",
    "    im = Image.open(file)\n",
    "#     im = im.rotate(90)\n",
    "    im = PIL.ImageOps.invert(im)\n",
    "\n",
    "    im = np.asarray(im).copy()\n",
    "    print(im.shape)\n",
    "    if len(im.shape) > 2:\n",
    "        im = rgb2gray(im) \n",
    "\n",
    "    if PLOT:\n",
    "        fig, ax = plt.subplots(figsize=(10, 6))\n",
    "        ax.imshow(im, aspect='auto', interpolation=\"none\")\n",
    "        plt.savefig(\"image_0_raw.pdf\")\n",
    "    # apply threshold\n",
    "    image = im.copy()\n",
    "    thresh = threshold_otsu(image)\n",
    "\n",
    "#     if PLOT:\n",
    "#         fig, ax = plt.subplots(figsize=(10, 6))\n",
    "#         ax.imshow(thresh, aspect='auto', interpolation=\"none\")\n",
    "#         plt.savefig(\"image_1_threshold.png\")\n",
    "    \n",
    "    bw = closing(image > thresh, square(3))\n",
    "    \n",
    "    if PLOT:\n",
    "        fig, ax = plt.subplots(figsize=(10, 6))\n",
    "        ax.imshow(bw, aspect='auto', interpolation=\"none\")\n",
    "        plt.savefig(\"image_2_bw.pdf\")\n",
    "    \n",
    "    \n",
    "    # remove artifacts connected to image border\n",
    "    cleared = clear_border(bw)\n",
    "    \n",
    "    if PLOT:\n",
    "        fig, ax = plt.subplots(figsize=(10, 6))\n",
    "        ax.imshow(cleared, aspect='auto', interpolation=\"none\")\n",
    "        plt.savefig(\"image_3_cleared.pdf\")\n",
    "    \n",
    "    \n",
    "    # find best rotation to make sure traces are elongated horizontally\n",
    "#     if PLOT: plt.figure()\n",
    "#     angles = np.arange(-2,2,0.1)\n",
    "#     rotations = []\n",
    "#     for angle in angles:\n",
    "#         tmp = rotate(cleared, float(angle))\n",
    "#         if PLOT: plt.plot(tmp.sum(axis=1), label=\"angle=%f\"%angle)\n",
    "#         rotations.append(tmp.sum(axis=1).max())\n",
    "#     print(np.max(rotations), angles[np.argmax(rotations)])\n",
    "    \n",
    "    angles = np.deg2rad(np.linspace(85,95,200))\n",
    "    hspace, angles, dists = hough_line(cleared, theta=angles)\n",
    "    hspace, angles, dists = hough_line_peaks(hspace, angles, dists)\n",
    "    angle = np.median(np.rad2deg(angles)) - 90\n",
    "    \n",
    "#     if PLOT: \n",
    "#         plt.legend()\n",
    "#         plt.show()\n",
    "    \n",
    "    cleared = rotate(cleared, angle)\n",
    "    \n",
    "    if PLOT:\n",
    "        fig, ax = plt.subplots(figsize=(10, 6))\n",
    "        ax.imshow(cleared, aspect='auto', interpolation=\"none\")\n",
    "        plt.savefig(\"image_4_rotated.pdf\")\n",
    "    \n",
    "    \n",
    "    print(cleared.shape)\n",
    "    # label image regions\n",
    "    label_image = label(cleared, connectivity=2)\n",
    "    print(label_image.shape)\n",
    "    image_label_overlay = label2rgb(label_image, image=cleared, bg_label=0, alpha=0.8)\n",
    "    if PLOT:\n",
    "        fig, ax = plt.subplots(figsize=(10, 6))\n",
    "        ax.imshow(image_label_overlay, aspect='auto', interpolation=\"none\")\n",
    "        plt.savefig(\"image_5_label_overlay.pdf\")\n",
    "    i = 0\n",
    "    all = []\n",
    "    all_s = {}\n",
    "    all_box = []\n",
    "    all_id = {}\n",
    "    for region in regionprops(label_image):\n",
    "        # take regions with large enough area\n",
    "        if region.area >= 100:\n",
    "            # check zone size, if too small on time axis or too wide on amplitude, reject\n",
    "            _minr, _minc, _maxr, _maxc = region.bbox\n",
    "            if _maxc-_minc <= 50:\n",
    "                continue\n",
    "            if _maxr - _minr >= 100:\n",
    "                continue\n",
    "            # draw rectangle around segmented traces\n",
    "            minr, minc, maxr, maxc = region.bbox\n",
    "            if PLOT:\n",
    "                rect = mpatches.Rectangle((minc, minr), maxc - minc, maxr - minr,\n",
    "                                          fill=False, edgecolor='red', linewidth=0.1)\n",
    "                plt.text((maxc+minc)/2, minr, \"%05i\" %i, color='w', fontsize=2, horizontalalignment=\"center\")\n",
    "                ax.add_patch(rect)\n",
    "            i+=1\n",
    "            tmp = cleared[minr:maxr,minc:maxc]\n",
    "            tmp -= tmp.min()\n",
    "            tmp[tmp>0] = 1.0\n",
    "            skeleton = skeletonize(tmp)\n",
    "            xx = []\n",
    "            for _ in range(skeleton.shape[1]):\n",
    "                _ = skeleton[:,_]\n",
    "                __ = np.where(_==1)[0]\n",
    "                if len(__):\n",
    "                    xx.append(__[0])\n",
    "                else:\n",
    "                    if len(xx):\n",
    "                        xx.append(xx[-1])\n",
    "                    else:\n",
    "                        xx.append(0)\n",
    "            _ = np.asarray(xx, dtype='float')\n",
    "            if _[0] == 0:\n",
    "                _[0] = _[1]\n",
    "\n",
    "            if PLOT:\n",
    "                plt.plot(np.arange(minc,maxc),minr+_, c='w', lw=0.1, zorder=100)\n",
    "            _ -= _.mean()\n",
    "            trace = {\"x\": minc, \"y\":(minr+maxr)/2., \"data\":_ }\n",
    "            all.append(trace)\n",
    "\n",
    "    traces[filename] = all\n",
    "    if PLOT:\n",
    "        ax.set_axis_off()\n",
    "        plt.tight_layout()\n",
    "        plt.savefig(\"image_6_skeleton.pdf\")\n",
    "#         plt.show()\n",
    "    del image, im, label_image, bw, cleared, image_label_overlay\n",
    "    break\n",
    "print(\"Done\")\n",
    "plt.show()"
   ]
  },
  {
   "cell_type": "code",
   "execution_count": 18,
   "metadata": {},
   "outputs": [
    {
     "data": {
      "text/plain": [
       "dict_keys(['19530128.jpg'])"
      ]
     },
     "execution_count": 18,
     "metadata": {},
     "output_type": "execute_result"
    }
   ],
   "source": [
    "traces.keys()"
   ]
  },
  {
   "cell_type": "code",
   "execution_count": 19,
   "metadata": {},
   "outputs": [],
   "source": [
    "start_times = {}\n",
    "start_times[\"19530128.jpg\"] = \"07:45:00\"\n",
    "start_times[\"19530129.jpg\"] = \"07:43:00\"\n"
   ]
  },
  {
   "cell_type": "code",
   "execution_count": 20,
   "metadata": {
    "scrolled": false
   },
   "outputs": [
    {
     "name": "stdout",
     "output_type": "stream",
     "text": [
      "19530128.jpg\n",
      "ppmin 352.0\n"
     ]
    },
    {
     "name": "stderr",
     "output_type": "stream",
     "text": [
      "C:\\ProgramData\\Anaconda3\\envs\\py37\\lib\\site-packages\\obspy\\core\\trace.py:2111: FutureWarning: Conversion of the second argument of issubdtype from `float` to `np.floating` is deprecated. In future, it will be treated as `np.float64 == np.dtype(float).type`.\n",
      "  if not np.issubdtype(self.data.dtype, float):\n"
     ]
    },
    {
     "name": "stdout",
     "output_type": "stream",
     "text": [
      "0.0014393333333333333\n",
      "0.001588333226781628\n"
     ]
    }
   ],
   "source": [
    "processed_traces = []\n",
    "\n",
    "\n",
    "for key in sorted(traces):\n",
    "    print(key)\n",
    "    date,_ = key.split('.')\n",
    "    d = datetime.datetime.strptime(date+ \" %s\" % start_times[key], \"%Y%m%d %H:%M:%S\")\n",
    "    df = pd.DataFrame(traces[key].copy())\n",
    "    df = df.sort_values([\"y\",\"x\"], ascending=[True,True])\n",
    "    ppmin = np.median([len(a) for a in df[\"data\"]])\n",
    "    print(\"ppmin\", ppmin)\n",
    "    pps = ppmin / 59.0\n",
    "    timer = 0\n",
    "    for id, row in df.iterrows():\n",
    "        tr = Trace(data=row[\"data\"].copy())\n",
    "        tr.data *= 0.0254/300.0 # data is now in meters\n",
    "        if id == 10:\n",
    "            print(tr.data.ptp())\n",
    "        tr.stats.sampling_rate = pps\n",
    "        tr.stats.starttime = UTCDateTime(d) + timer\n",
    "        tr.detrend(\"linear\")\n",
    "        tr.interpolate(8, method='lanczos', a=64)\n",
    "        tr.taper(None, max_length=0.5, side=\"both\")\n",
    "        tr.filter(\"highpass\", freq=0.05, corners=8)\n",
    "        if id == 10:\n",
    "            print(tr.data.ptp())\n",
    "        processed_traces.append(tr)\n",
    "        timer += tr.stats.npts*tr.stats.delta + 1\n"
   ]
  },
  {
   "cell_type": "code",
   "execution_count": 21,
   "metadata": {},
   "outputs": [],
   "source": [
    "st = Stream(traces=processed_traces)\n",
    "st.write(\"1953.BHZ.mseed\")\n"
   ]
  },
  {
   "cell_type": "code",
   "execution_count": null,
   "metadata": {},
   "outputs": [],
   "source": []
  }
 ],
 "metadata": {
  "kernelspec": {
   "display_name": "Python 3",
   "language": "python",
   "name": "python3"
  },
  "language_info": {
   "codemirror_mode": {
    "name": "ipython",
    "version": 3
   },
   "file_extension": ".py",
   "mimetype": "text/x-python",
   "name": "python",
   "nbconvert_exporter": "python",
   "pygments_lexer": "ipython3",
   "version": "3.7.3"
  }
 },
 "nbformat": 4,
 "nbformat_minor": 2
}
